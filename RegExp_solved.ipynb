{
  "cells": [
    {
      "cell_type": "markdown",
      "metadata": {
        "id": "view-in-github",
        "colab_type": "text"
      },
      "source": [
        "<a href=\"https://colab.research.google.com/github/MichaelPanikovskiy/d/blob/main/RegExp_solved.ipynb\" target=\"_parent\"><img src=\"https://colab.research.google.com/assets/colab-badge.svg\" alt=\"Open In Colab\"/></a>"
      ]
    },
    {
      "cell_type": "markdown",
      "source": [
        "> *Когда некоторые люди сталкиваются с проблемой, думают «Я знаю, я решу её с помощью регулярных выражений.» Теперь у них две проблемы*"
      ],
      "metadata": {
        "collapsed": false,
        "id": "bVtCjrIeROJ9"
      }
    },
    {
      "cell_type": "markdown",
      "source": [
        "## Регулярные выражения\n",
        "\n",
        "Регулярное выражение — это строка, задающая шаблон поиска подстрок в тексте. Одному шаблону может соответствовать много разных строчек.\n",
        "\n",
        "Термин «Регулярные выражения» является переводом английского словосочетания «Regular expressions». Перевод не очень точно отражает смысл, правильнее было бы «шаблонные выражения». Регулярное выражение, или коротко «регулярка», состоит из обычных символов и специальных командных последовательностей. Например, `\\d` задаёт любую цифру, а `\\d*` — задает любую последовательность из нуля или более цифр\n",
        "\n",
        "### Начнем с простых текстовых шаблонов\n",
        "\n",
        "В Python поиску по шаблону обучно используется функция `search` из библиотеки `re`:\n",
        "````\n",
        "match = re.search(pattern, string)\n",
        "````"
      ],
      "metadata": {
        "collapsed": false,
        "id": "SpFqsjezROKA"
      }
    },
    {
      "cell_type": "code",
      "execution_count": null,
      "outputs": [],
      "source": [
        "import re"
      ],
      "metadata": {
        "id": "e6-Evpb1ROKA"
      }
    },
    {
      "cell_type": "markdown",
      "source": [
        "Метод `re.search()` принимает шаблон `pattern` и строку `string`, а затем ищет этот шаблон в строке.\n",
        "\n",
        "Если поиск успешен, `search()` возвращает подстроку, которая удовлетворяет поиску, в противном случае - `None.\n",
        "\n",
        "\n",
        "Давайте с помощью этого метода попробуем найти в строке котов:"
      ],
      "metadata": {
        "collapsed": false,
        "id": "cWCiLisVROKB"
      }
    },
    {
      "cell_type": "code",
      "execution_count": null,
      "outputs": [
        {
          "output_type": "stream",
          "name": "stdout",
          "text": [
            "Нашёл слово: котиков\n"
          ]
        }
      ],
      "source": [
        "string = 'Я люблю котиков кот и мятные пряники'\n",
        "match = re.search(r'кот\\w*', string)\n",
        "if match:\n",
        "    print('Нашёл слово:', match.group())\n",
        "else:\n",
        "    print('В этом тексте нет котов :(')"
      ],
      "metadata": {
        "id": "Fp1D6Oa3ROKB",
        "outputId": "e054ef87-3d84-4192-92f6-3806c0954ac1",
        "colab": {
          "base_uri": "https://localhost:8080/"
        }
      }
    },
    {
      "cell_type": "markdown",
      "source": [
        "Код `match = re.search(r'кот\\w*', str)` сохраняет результат поиска в переменную с именем `match`. Если поиск завершился успешно, то `match.group()` является совпадающим текстом (в нашем случае содержит слова \"котиков\", так это \"кот\" плюс некоторое количество или ноль букв в конце).\n",
        "\n"
      ],
      "metadata": {
        "collapsed": false,
        "id": "k8NnqO1XROKC"
      }
    },
    {
      "cell_type": "markdown",
      "source": [
        "## Основные спецсимволы\n",
        "\n",
        "Для задания шаблонов в регулярных выражениях используются спецсимволы.\n",
        "\n",
        "Давайте посмотрим основные из них:"
      ],
      "metadata": {
        "collapsed": false,
        "id": "CzETAhlwROKC"
      }
    },
    {
      "cell_type": "markdown",
      "source": [
        "**.**   Один любой символ, кроме новой строки\n",
        "\n",
        "**\\d**\tЛюбая цифра\n",
        "\n",
        "**\\D**\tЛюбой символ, кроме цифры\n",
        "\n",
        "**\\s**\tЛюбой пробельный символ (пробел, табуляция, конец строки и т.п.)\n",
        "\n",
        "**\\S**\tЛюбой непробельный символ\t(не пробел, не табуляция, не конец строки и т.п.)\n",
        "\n",
        "**\\w**\tЛюбая буква (то, что может быть частью слова), а также цифры и _\n",
        "\n",
        "**\\W**\tЛюбая не-буква, не-цифра и не подчёркивание\n",
        "\n",
        "**[..]**\tОдин из символов в скобках в рамках диапазона, то есть:\n",
        "\n",
        "**\\d** равносильно выражению `[0-9]`\n",
        "\n",
        "**\\D** равносильно выражению `[^0-9]`, так как символ ^ означает любой символ, кроме перечисленных\n",
        "\n",
        "**\\w** равносильно выражению `[0-9a-zA-Z]`, эта запись сочетает в себе последовательность из любых цифр, букв в обоих регистрах\n",
        "\n",
        "**\\s** равносильно `[\\f\\n\\r\\t]` (тут надо постараться, чтобы вспомнить что есть что!)\n",
        "\n",
        "**\\b** Начало или конец слова (слева пусто или не-буква и справа буква, или наоборот). В отличие от предыдущих соответствует позиции, а не символу.\n",
        "\n",
        "**^ и $**\tтоже обозначение начало и конца строки соответственно"
      ],
      "metadata": {
        "collapsed": false,
        "id": "Xb0nRgzmROKC"
      }
    },
    {
      "cell_type": "markdown",
      "source": [
        "Кстати, любая строка, в которой нет символов, сама по себе является регулярным выражением. Так, выражению \"привет\" будет соответствовать строка “привет” и только она. Регулярные выражения являются регистрозависимыми, поэтому строка “ПрИвЕт” уже не подойдёт. Подобно строкам в языке Python, регулярные выражения имеют спецсимволы `**.^$*+?{}[]\\|()**`, которые в регулярках являются управляющими конструкциями. Для написания их просто как символов требуется их экранировать, для чего нужно поставить перед ними знак \\\n",
        "\n",
        "Например, если вы хотите найти выражение в скобках, то надо написать `\\(\\w*\\)`."
      ],
      "metadata": {
        "collapsed": false,
        "id": "kUR4O9xrROKC"
      }
    },
    {
      "cell_type": "markdown",
      "source": [
        "### Посмотрим на примеры!"
      ],
      "metadata": {
        "collapsed": false,
        "id": "prrMaJGWROKD"
      }
    },
    {
      "cell_type": "code",
      "execution_count": null,
      "outputs": [
        {
          "output_type": "stream",
          "name": "stdout",
          "text": [
            "дом, ком, ром, 5ом, 6ом, _ом, "
          ]
        }
      ],
      "source": [
        "# зададим шаблон: любой символ (точка) + окончание \"ом\" и посмотрим, какие примеры подойдут\n",
        "all_strings = ['дом', 'комом', 'космодром', '5ом', '666ом', '_ом', 'ом']\n",
        "for element in all_strings:\n",
        "    match_ = re.search(r'.ом', element)\n",
        "    if match_:\n",
        "        print(match_.group(), end = ', ')"
      ],
      "metadata": {
        "id": "SlWrq6RAROKD",
        "outputId": "a114d544-5f17-4fce-fb19-b6e28e904b62"
      }
    },
    {
      "cell_type": "code",
      "execution_count": null,
      "outputs": [
        {
          "output_type": "stream",
          "name": "stdout",
          "text": [
            "В строке есть вопросительный знак.\n",
            "?\n"
          ]
        }
      ],
      "source": [
        "# проверим есть ли в строке вопросительный знак\n",
        "string = 'Как дела?'\n",
        "result = re.search(r'\\?', string)\n",
        "if result:\n",
        "    print('В строке есть вопросительный знак.')\n",
        "    print(result.group(0))\n",
        "else:\n",
        "    print('В строке нет вопросительно знака.')"
      ],
      "metadata": {
        "id": "T2YZfAJ3ROKD",
        "outputId": "e0d4ff4e-c4e0-476b-be2a-63105e195e4c"
      }
    },
    {
      "cell_type": "markdown",
      "source": [
        "### Вернёмся к теории\n",
        "\n",
        "Как в регулярном выражении объяснить, сколько раз нам нужно то или иное вхождение символов?\n",
        "\n",
        "**{n}**\t Ровно n повторений\n",
        "\n",
        "**{m,n}**\tОт m до n повторений включительно\n",
        "\n",
        "**{m,}**\tНе менее m повторений\n",
        "\n",
        "**{,n}**\tНе более n повторений\n",
        "\n",
        "**?**\tНоль или одно вхождение, аналогично {0,1}\n",
        "\n",
        "**\\***\tНоль или более вхождений, аналогично {0,}\n",
        "\n",
        "**\\+**\tОдно или более вхождений, аналогично {1,}\n",
        "\n",
        "**|** логический оператор или"
      ],
      "metadata": {
        "collapsed": false,
        "id": "og0RV1ufROKD"
      }
    },
    {
      "cell_type": "code",
      "execution_count": null,
      "outputs": [
        {
          "output_type": "stream",
          "name": "stdout",
          "text": [
            "ML09, "
          ]
        }
      ],
      "source": [
        "# в фигурных скобках количество повторений заданного символа, в этом случае мы ищем 3 числа после слова БЖУР\n",
        "string = 'Самые умные студенты учатся в группе ML09'\n",
        "\n",
        "match_ = re.search(r'ML\\d{2}', string)\n",
        "if match_:\n",
        "    print(match_.group(), end = ', ')"
      ],
      "metadata": {
        "id": "ygleO--KROKD",
        "outputId": "3c66c6a9-6593-4c85-e6cb-079694a9c0f5"
      }
    },
    {
      "cell_type": "code",
      "execution_count": null,
      "outputs": [
        {
          "output_type": "stream",
          "name": "stdout",
          "text": [
            "1234, 1234, 1234, "
          ]
        }
      ],
      "source": [
        "# обратим внимание, что первые три строки не прошли проверку (т.к. в них меньше 4х чисел)\n",
        "# а дальше выводились первые 4 цифры оставшихся строк\n",
        "all_strings = ['1', '12', '123','1234', '12345', '123456']\n",
        "for element in all_strings:\n",
        "    match = re.search(r'\\d{4}', element)\n",
        "    if match:\n",
        "        print(match.group(), end = ', ')"
      ],
      "metadata": {
        "id": "iRMH2pofROKD",
        "outputId": "890e24f8-9b37-433e-f6e0-dd4fbd7fab7f"
      }
    },
    {
      "cell_type": "code",
      "execution_count": null,
      "outputs": [
        {
          "output_type": "stream",
          "name": "stdout",
          "text": [
            "1234, 12345, 123456, "
          ]
        }
      ],
      "source": [
        "# убрали ограничение на количество цифр\n",
        "all_strings = ['1', '12', '123','1234', '12345', '123456']\n",
        "for element in all_strings:\n",
        "    match = re.search(r'\\d{4,}', element)\n",
        "    if match:\n",
        "        print(match.group(), end = ', ')"
      ],
      "metadata": {
        "id": "nMv6XwpAROKE",
        "outputId": "9337f15e-c0de-432e-85eb-d730e379b9d7"
      }
    },
    {
      "cell_type": "code",
      "execution_count": null,
      "outputs": [
        {
          "output_type": "stream",
          "name": "stdout",
          "text": [
            "1234, "
          ]
        }
      ],
      "source": [
        "# если нам надо найти последовательности ТОЛЬКО из 4х чисел, то нуно добавить знак $ в конеч строки\n",
        "all_strings = ['1', '12', '123','1234', '12345', '123456']\n",
        "for element in all_strings:\n",
        "    match = re.search(r'^\\d{4}$', element)\n",
        "    if match:\n",
        "        print(match.group(), end = ', ')"
      ],
      "metadata": {
        "id": "sLEy9Y_uROKE",
        "outputId": "0737a3e8-0ac2-4bc3-8029-3bccc8420c71"
      }
    },
    {
      "cell_type": "code",
      "execution_count": null,
      "outputs": [
        {
          "output_type": "stream",
          "name": "stdout",
          "text": [
            "Брэд Питт, брэд Питт, брэд питт, "
          ]
        }
      ],
      "source": [
        "# зададим условие для поиска правильных Брэд Питтов\n",
        "# Брэдд Питт не обижается, если его имя пишут с маленькой буквы\n",
        "# но ему неприятно, если между именем и фамилией нет символа табуляции\n",
        "all_strings = ['Брэд Питт', 'брэд Питт', 'брэд питт', 'брэд_питт', 'Брэд666Питт']\n",
        "for element in all_strings:\n",
        "    match = re.search(r'[Бб]рэд\\s[Пп]итт', element)\n",
        "    if match:\n",
        "        print(match.group(), end = ', ')"
      ],
      "metadata": {
        "id": "HtnrRKc3ROKE",
        "outputId": "5fdca636-f799-46f7-b91b-5d70a5dfa177"
      }
    },
    {
      "cell_type": "markdown",
      "source": [
        "#### Работа с заглавными буквами"
      ],
      "metadata": {
        "collapsed": false,
        "id": "ASi8NWy5ROKE"
      }
    },
    {
      "cell_type": "code",
      "execution_count": null,
      "outputs": [
        {
          "output_type": "stream",
          "name": "stdout",
          "text": [
            "у любви у нашей села батарейка ОООООО\n"
          ]
        }
      ],
      "source": [
        "# загадочная буква ё, на которой всё ломается\n",
        "st = 'у любви у нашей села батарейка ООООООЁЁЁЁИИЯЯЯЯЯИИИЁЁЁЁЁЁЁЁ БАТАРЕЙКА'\n",
        "print(re.search(r'[А-Яа-я\\s]+',st).group(0))"
      ],
      "metadata": {
        "id": "ZwmbunL7ROKE",
        "outputId": "0106d762-9661-4d97-b5de-185c73213eb4"
      }
    },
    {
      "cell_type": "code",
      "execution_count": null,
      "outputs": [
        {
          "output_type": "stream",
          "name": "stdout",
          "text": [
            "у любви у нашей села батарейка ООООООЁЁЁЁИИЯЯЯЯЯИИИЁЁЁЁЁЁЁЁ БАТАРЕЙКА\n"
          ]
        }
      ],
      "source": [
        "#как исправить? не забыть добавить Ё после а-я!\n",
        "st = 'у любви у нашей села батарейка ООООООЁЁЁЁИИЯЯЯЯЯИИИЁЁЁЁЁЁЁЁ БАТАРЕЙКА'\n",
        "print(re.search(r'[А-Яа-яЁё\\s]+',st).group(0))"
      ],
      "metadata": {
        "id": "2WW2zAFZROKE",
        "outputId": "fb572291-eb86-49a0-a4c5-3b6850c0bbef"
      }
    },
    {
      "cell_type": "markdown",
      "source": [
        "Кстати, для обозначения заглавных букв нередко употребляют жаргонизм *капитализация* от английского слова capital (letter). Не пугайтесь, эта капитализация не имеет ничего общего с финансами, а просто поясняет, какими буквами написано слово.\n",
        "\n",
        "Для того, чтобы привести все буквы к нижнему регистру используется метод `string.lower()`, а к верхнему - `string.upper()`."
      ],
      "metadata": {
        "collapsed": false,
        "id": "F0zvlesqROKE"
      }
    },
    {
      "cell_type": "code",
      "execution_count": null,
      "outputs": [
        {
          "output_type": "stream",
          "name": "stdout",
          "text": [
            "у любви у нашей села батарейка ооооооёёёёиияяяяяиииёёёёёёёё батарейка\n",
            "У ЛЮБВИ У НАШЕЙ СЕЛА БАТАРЕЙКА ООООООЁЁЁЁИИЯЯЯЯЯИИИЁЁЁЁЁЁЁЁ БАТАРЕЙКА\n"
          ]
        }
      ],
      "source": [
        "st = 'у любви у нашей села батарейка ООООООЁЁЁЁИИЯЯЯЯЯИИИЁЁЁЁЁЁЁЁ БАТАРЕЙКА'\n",
        "print(st.lower())\n",
        "print(st.upper())"
      ],
      "metadata": {
        "id": "dbPtIOoQROKE",
        "outputId": "a7b0e030-14da-4cbd-bfa5-f43f515ce2c6"
      }
    },
    {
      "cell_type": "markdown",
      "source": [
        "#### Примеры посложнее"
      ],
      "metadata": {
        "collapsed": false,
        "id": "g2WOe4olROKF"
      }
    },
    {
      "cell_type": "code",
      "execution_count": null,
      "outputs": [
        {
          "output_type": "stream",
          "name": "stdout",
          "text": [
            "piiiiii\n"
          ]
        }
      ],
      "source": [
        "## найдём в слове столько i, сколько возможно\n",
        "string = 'piiiiiig'\n",
        "match = re.search(r'pi+', string)\n",
        "print(match.group())"
      ],
      "metadata": {
        "id": "dr1at4rRROKF",
        "outputId": "40052bc9-2e0e-4257-88f2-a3d1963383a9"
      }
    },
    {
      "cell_type": "code",
      "execution_count": null,
      "outputs": [
        {
          "output_type": "stream",
          "name": "stdout",
          "text": [
            "ii\n"
          ]
        }
      ],
      "source": [
        "## сталкиваемся с особенностью метода search - метод search ищет только самое первое (самое левое) вхождение\n",
        "string = 'piigiiiiii'\n",
        "match = re.search(r'i+', string)\n",
        "print(match.group())"
      ],
      "metadata": {
        "id": "m--elY_9ROKF",
        "outputId": "bbc7d01e-717b-4838-843d-1494490f1a60"
      }
    },
    {
      "cell_type": "code",
      "execution_count": null,
      "outputs": [
        {
          "output_type": "stream",
          "name": "stdout",
          "text": [
            "pig, pug, pigpugpig, pig_pug, "
          ]
        }
      ],
      "source": [
        "#теперь попробуем найти не только свиней, но и мопсов (pug - мопс)\n",
        "all_strings = ['pig', 'pog', 'pug', 'piug', 'pigpugpig', 'pig_pug']\n",
        "for element in all_strings:\n",
        "    match = re.search(r'(p[iu]g_*)+', element)\n",
        "    if match:\n",
        "        print(match.group(), end = ', ')"
      ],
      "metadata": {
        "id": "_ojl_Qr5ROKF",
        "outputId": "4d374234-3572-4754-83d8-34834521de59"
      }
    },
    {
      "cell_type": "code",
      "execution_count": null,
      "outputs": [
        {
          "output_type": "stream",
          "name": "stdout",
          "text": [
            "хо, ха-хаха-ха-ха, хо-хоха-хахо-, хахоха, "
          ]
        }
      ],
      "source": [
        "# посмеялись и хватит, давайте найдём строки где не больше 5и смешков\n",
        "# с условием, что кто-то смеётся с дефисом, а кто-то без\n",
        "all_strings = ['ха-ха', 'ха-хаха-ха-хаха-ха','хо-хоха-хахо-хохах-ах', 'хахоха']\n",
        "for element in all_strings:\n",
        "    match = re.search(r'(х[ао]-*){,5}', element)\n",
        "    if match:\n",
        "        print(match.group(), end = ', ')"
      ],
      "metadata": {
        "id": "_hfdT-ByROKF",
        "outputId": "2baf7f99-f70f-4216-9732-fcb8a68773c3",
        "colab": {
          "base_uri": "https://localhost:8080/"
        }
      }
    },
    {
      "cell_type": "markdown",
      "source": [
        "### Попробуем найти все e-mail'ы в строке"
      ],
      "metadata": {
        "collapsed": false,
        "id": "AKof_a13ROKF"
      }
    },
    {
      "cell_type": "code",
      "execution_count": null,
      "outputs": [
        {
          "output_type": "stream",
          "name": "stdout",
          "text": [
            "b@google\n"
          ]
        }
      ],
      "source": [
        "# как бы мы делали раньше\n",
        "import re\n",
        "string = 'purple alice-b@google.com monkey dishwasher'\n",
        "match = re.search(r'\\w+@\\w+\\.\\w{2,3}', string) # что-то, потом @, потом ещё что-то\n",
        "if match:\n",
        "    print(match.group())"
      ],
      "metadata": {
        "id": "HWeX9M2qROKF",
        "outputId": "4f7bd1d1-0234-406e-ab16-481753150921"
      }
    },
    {
      "cell_type": "markdown",
      "source": [
        "В этом случае поиск не дает полного адреса электронной почты, потому что `\\w` не соответствует дефису или точке в адресе. Исправим это, используя функции регулярных выражений ниже. Коды `\\w`, `\\s` и другие работают точно так же внутри квадратных скобок. Исключение - точка (.), которая внутри скобок означает просто буквальную точку.\n",
        "\n",
        "**Итак, собираем регулярное выражение:**\n",
        "\n",
        "1) `[\\w.-]` всё, что может находиться в адресе электронной почты\n",
        "\n",
        "2) `[\\w.-]+` добавим плюс, так как там может быть сколько угодно символов\n",
        "\n",
        "3) `[\\w.-]+@[\\w.-]+` посередине знак @, готово!\n",
        "Замечание: будем считать, что в домене не бывает нижнего подчеркивания."
      ],
      "metadata": {
        "collapsed": false,
        "id": "6tkAIA86ROKF"
      }
    },
    {
      "cell_type": "code",
      "execution_count": null,
      "outputs": [
        {
          "output_type": "stream",
          "name": "stdout",
          "text": [
            "alice-b@google.com\n"
          ]
        }
      ],
      "source": [
        "# как мы будем делать, зная регулярные выражения\n",
        "import re\n",
        "string = 'purple alice-b@google.com monkey dishwasher'\n",
        "match = re.search(r'[\\w.-]+@[\\w.-]+', string)\n",
        "if match:\n",
        "    print(match.group())"
      ],
      "metadata": {
        "id": "gNWKYHJnROKF",
        "outputId": "a55009c8-84e4-4d2d-a5fe-50937dea6a07"
      }
    },
    {
      "cell_type": "code",
      "execution_count": null,
      "outputs": [],
      "source": [
        "# ТРЕНИРУЕМСЯ"
      ],
      "metadata": {
        "id": "48k4YtksROKF"
      }
    },
    {
      "cell_type": "code",
      "execution_count": null,
      "outputs": [],
      "source": [
        "# Вернуть первое слово из строки «Регулярные выражения в Python».\n",
        "import re\n",
        "string = \"Регулярные выражения в Python\"\n",
        "result = re.findall(, string)\n",
        "print(result)"
      ],
      "metadata": {
        "id": "lFq7bN0AROKF"
      }
    },
    {
      "cell_type": "code",
      "execution_count": null,
      "outputs": [],
      "source": [
        "# Вернуть последнее слово из строки «Регулярные выражения в Python».\n",
        "import re\n",
        "string = \"Регулярные выражения в Python\"\n",
        "result = re.findall(, string)\n",
        "print(result)"
      ],
      "metadata": {
        "id": "5Aj2sivCROKF"
      }
    },
    {
      "cell_type": "code",
      "execution_count": null,
      "outputs": [],
      "source": [
        "# Проверить формат телефонного номера. Номер должен состоять из 11 знаков и начинаться с 7 или 8. На вход подается список телефонных номеров.\n",
        "phone_numbers = ['89154167654', '38764356622', '79853452190', '891678645432', '8916657b589']\n",
        "for number in phone_numbers:\n",
        "    if re.match(r'[78][0-9]{10}', number) and len(number) == 11:\n",
        "        print('Correct')\n",
        "    else:\n",
        "        print('Incorrect')"
      ],
      "metadata": {
        "id": "hXaFtCKJROKF"
      }
    },
    {
      "cell_type": "markdown",
      "source": [
        "\n",
        "### Группировка\n",
        "\n",
        "Функция \"группировки\" регулярного выражения позволяет вам выделять части совпадающего текста. Предположим, что для проблемы электронной почты мы хотим извлечь имя пользователя и хост отдельно. Для этого добавьте круглые скобки () вокруг имени пользователя и хоста в шаблоне. В этом случае круглые скобки не меняют то, чему будет соответствовать шаблон, вместо этого они создают логические «группы» внутри текста соответствия. При успешном поиске `match.group(1)` - это текст совпадения, соответствующий 1-й левой круглой скобке, а `match.group(2)` - текст, соответствующий 2-й левой скобке. Обычный `match.group()`, как обычно, по-прежнему представляет собой весь текст соответствия."
      ],
      "metadata": {
        "collapsed": false,
        "id": "pgyazvROROKG"
      }
    },
    {
      "cell_type": "code",
      "execution_count": null,
      "outputs": [
        {
          "output_type": "stream",
          "name": "stdout",
          "text": [
            "alice-b@google.com\n",
            "alice-b\n",
            "google.com\n"
          ]
        }
      ],
      "source": [
        "string = 'purple alice-b@google.com monkey dishwasher'\n",
        "match = re.search('([\\w.-]+)@([\\w.-]+)', string)\n",
        "if match:\n",
        "    print(match.group())   ## 'alice-b@google.com' (полное совпадение)\n",
        "    print(match.group(1))  ## 'alice-b' (юзернейм)\n",
        "    print(match.group(2))  ## 'google.com' (домен электронной почты)"
      ],
      "metadata": {
        "id": "C3rrGXizROKG",
        "outputId": "ef0454f4-eabe-4922-b1c6-366e0b986b1c"
      }
    },
    {
      "cell_type": "markdown",
      "source": [
        "### Функции кроме search()\n",
        "\n",
        "`re.split(pattern, string, maxsplit=0)`\tАналог `str.split()`, только разделение происходит по подстрокам, подходящим под шаблон pattern;\n",
        "\n"
      ],
      "metadata": {
        "collapsed": false,
        "id": "M55SppT-ROKG"
      }
    },
    {
      "cell_type": "code",
      "execution_count": null,
      "outputs": [
        {
          "output_type": "execute_result",
          "data": {
            "text/plain": [
              "['itsy,', 'bitsy,', 'teenie,', 'weenie']"
            ]
          },
          "metadata": {},
          "execution_count": 34
        }
      ],
      "source": [
        "# по умолчанию метод split делит строку по пробелам\n",
        "'itsy, bitsy, teenie, weenie'.split()"
      ],
      "metadata": {
        "id": "vWoaPnDVROKJ",
        "outputId": "6be396dd-26d6-411d-b8ef-cdafb8ae62c5"
      }
    },
    {
      "cell_type": "code",
      "execution_count": null,
      "outputs": [
        {
          "output_type": "execute_result",
          "data": {
            "text/plain": [
              "['itsy', 'bitsy', 'teenie', 'weenie']"
            ]
          },
          "metadata": {},
          "execution_count": 35
        }
      ],
      "source": [
        "#но можно добавить выражение, по которому мы делим\n",
        "'itsy, bitsy, teenie, weenie'.split(', ')"
      ],
      "metadata": {
        "id": "n2Nfe2IfROKJ",
        "outputId": "12984284-7a4a-4f4e-fe58-f5ce55941ee3"
      }
    },
    {
      "cell_type": "code",
      "execution_count": null,
      "outputs": [
        {
          "output_type": "stream",
          "name": "stdout",
          "text": [
            "['itsy', ' bitsy', ' teenie', ' weenie']\n"
          ]
        }
      ],
      "source": [
        "# тоже самов с  re\n",
        "string = 'itsy, bitsy, teenie, weenie'\n",
        "result = re.split(',', string)\n",
        "print(result)"
      ],
      "metadata": {
        "id": "9XAKsEmOROKJ",
        "outputId": "54eabc44-0d3c-4734-ee39-f30721d72fe3"
      }
    },
    {
      "cell_type": "code",
      "execution_count": null,
      "outputs": [
        {
          "output_type": "stream",
          "name": "stdout",
          "text": [
            "['itsy', ' bitsy', ' teenie, weenie']\n"
          ]
        }
      ],
      "source": [
        "# можно указать максимальное количество разбиений\n",
        "string = 'itsy, bitsy, teenie, weenie'\n",
        "result = re.split(',', string, maxsplit = 2)\n",
        "print(result)"
      ],
      "metadata": {
        "id": "14K8qRymROKJ",
        "outputId": "8c6a8c4e-7bf8-4026-a38d-4dbe9dbd12f7"
      }
    },
    {
      "cell_type": "code",
      "execution_count": null,
      "outputs": [
        {
          "output_type": "execute_result",
          "data": {
            "text/plain": [
              "['He woke up',\n",
              " 'He cooked berakfast',\n",
              " 'He drank coffee. He left home. He entered subway.']"
            ]
          },
          "metadata": {},
          "execution_count": 38
        }
      ],
      "source": [
        "# разобьем строку, состоящую из нескольких предложений, по точкам, но не более чем на 3 предложения.\n",
        "string = 'He woke up. He cooked berakfast. He drank coffee. He left home. He entered subway.'\n",
        "result = re.split('\\.', string, maxsplit = 2)\n",
        "[x.strip() for x in result]"
      ],
      "metadata": {
        "id": "EP2R9Q6LROKK",
        "outputId": "b3f1cb66-0dfc-46a0-bde0-1613eb2142a3"
      }
    },
    {
      "cell_type": "code",
      "execution_count": null,
      "outputs": [
        {
          "output_type": "stream",
          "name": "stdout",
          "text": [
            "['В моём сердце дырка', 'мне нужна таблетка']\n"
          ]
        }
      ],
      "source": [
        "# тестируем функцию split, которая поделит строку на две части по дефису, окружённому знаками табуляции (пробелами)\n",
        "string = 'В моём сердце дырка\\t- мне нужна таблетка'\n",
        "print(re.split(r'\\s-\\s', string))"
      ],
      "metadata": {
        "id": "kZo1V4dlROKK",
        "outputId": "16ada60f-e90c-4fc0-95c9-bba5919c7651"
      }
    },
    {
      "cell_type": "markdown",
      "source": [
        "`re.findall(pattern, string)`\t ищет в строке `string` **все** непересекающиеся шаблоны `pattern`\n",
        "\n"
      ],
      "metadata": {
        "collapsed": false,
        "id": "woNE2QL2ROKK"
      }
    },
    {
      "cell_type": "code",
      "execution_count": null,
      "outputs": [
        {
          "output_type": "stream",
          "name": "stdout",
          "text": [
            "['котиков', 'котят', 'котов']\n"
          ]
        }
      ],
      "source": [
        "# найдем всех котов\n",
        "string = 'я люблю котиков, кошечек, котят и котов.'\n",
        "result = re.findall(r'кот\\w*', string)\n",
        "print(result)"
      ],
      "metadata": {
        "id": "PUQ7ebUtROKK",
        "outputId": "048a5455-6cd5-4dde-eea7-11d71129b063"
      }
    },
    {
      "cell_type": "code",
      "execution_count": null,
      "outputs": [
        {
          "output_type": "stream",
          "name": "stdout",
          "text": [
            "alice@google.com\n",
            "bob@abc.com\n"
          ]
        }
      ],
      "source": [
        "## Теперь найдем все email\n",
        "string = 'purple alice@google.com, blah monkey bob@abc.com blah dishwasher'\n",
        "\n",
        "## re.findall() возвращает список со всеми вхождениями шаблона\n",
        "emails = re.findall(r'[\\w\\.-]+@[\\w\\.-]+', string)\n",
        "for email in emails:\n",
        "    print(email)"
      ],
      "metadata": {
        "id": "eMlSI4UXROKK",
        "outputId": "ccdb4aae-4906-4226-bcdc-c39324ce3c71"
      }
    },
    {
      "cell_type": "markdown",
      "source": [
        "`re.finditer(pattern, string)`\tИтератор по всем непересекающимся шаблонам `pattern` в строке `string` (выдаются match-объекты)\n",
        "\n"
      ],
      "metadata": {
        "collapsed": false,
        "id": "kaJ-zBz8ROKK"
      }
    },
    {
      "cell_type": "code",
      "execution_count": null,
      "outputs": [
        {
          "output_type": "stream",
          "name": "stdout",
          "text": [
            "Дата 27.03.2020 начинается с позиции 23\n",
            "Дата 1.11.2021 начинается с позиции 49\n"
          ]
        }
      ],
      "source": [
        "# Обратим внимание, как записаны даты: день(1-2 числа) - месяц (строго 2 числа) - год (строго 4 числа)\n",
        "# match.start() индекс в исходной строке, начиная с которого идёт найденная подстрока\n",
        "string = 'Первый локдаун начался 27.03.2020, а последний - 1.11.2021'\n",
        "for match in re.finditer(r'\\d{1,2}\\.\\d{2}\\.\\d{4}', string):\n",
        "    print('Дата', match.group(), 'начинается с позиции', match.start())"
      ],
      "metadata": {
        "id": "NuAKVVImROKK",
        "outputId": "955fa7f8-71e4-493b-9e5f-62365e57d1f6"
      }
    },
    {
      "cell_type": "markdown",
      "source": [
        "`re.match(pattern, string)`\tищет входения шаблона в НАЧАЛЕ строки"
      ],
      "metadata": {
        "collapsed": false,
        "id": "bOXb7MjaROKK"
      }
    },
    {
      "cell_type": "code",
      "execution_count": null,
      "outputs": [
        {
          "output_type": "stream",
          "name": "stdout",
          "text": [
            "None\n"
          ]
        }
      ],
      "source": [
        "# найдем котов\n",
        "string = 'я люблю котиков, кошечек, котят и котов.'\n",
        "result = re.match(r'кот\\w*', string)\n",
        "print(result)"
      ],
      "metadata": {
        "id": "IXcWcNA7ROKK",
        "outputId": "effb80d5-9135-44c8-97bd-041c0b0f597c"
      }
    },
    {
      "cell_type": "code",
      "execution_count": null,
      "outputs": [
        {
          "output_type": "stream",
          "name": "stdout",
          "text": [
            "котик\n"
          ]
        }
      ],
      "source": [
        "# найдем котов\n",
        "string = 'котик сидел на коврике'\n",
        "result = re.match(r'кот\\w*', string)\n",
        "print(result.group(0))"
      ],
      "metadata": {
        "id": "BcYvlSa-ROKK",
        "outputId": "ee0f7e56-22f2-4d3b-b55b-daed9a74e4c6"
      }
    },
    {
      "cell_type": "markdown",
      "source": [
        "`re.sub(pattern, repl, string, count=0)`\tзаменяет в строке `string` все непересекающиеся шаблоны `pattern` на `repl`"
      ],
      "metadata": {
        "collapsed": false,
        "id": "akLZtjmdROKL"
      }
    },
    {
      "cell_type": "code",
      "execution_count": null,
      "outputs": [
        {
          "output_type": "stream",
          "name": "stdout",
          "text": [
            "Момо мыло рому.\n"
          ]
        }
      ],
      "source": [
        "# заменим А на Б\n",
        "string = 'Мама мыла раму.'\n",
        "result = re.sub('а', 'о', string)\n",
        "print(result)"
      ],
      "metadata": {
        "id": "26pGd47SROKL",
        "outputId": "eb780641-8d9e-45ac-b828-af08672defd5"
      }
    },
    {
      "cell_type": "code",
      "execution_count": null,
      "outputs": [
        {
          "output_type": "stream",
          "name": "stdout",
          "text": [
            "Момо мыло раму.\n"
          ]
        }
      ],
      "source": [
        "# можно установить ограничение на количество замен, по умолчанию его нет\n",
        "string = 'Мама мыла раму.'\n",
        "result = re.sub('а', 'о', string, count = 3)\n",
        "print(result)"
      ],
      "metadata": {
        "id": "t5qoRuzKROKL",
        "outputId": "58ede718-4378-40f7-bcf5-5912ecbd9166"
      }
    },
    {
      "cell_type": "code",
      "execution_count": null,
      "outputs": [
        {
          "output_type": "stream",
          "name": "stdout",
          "text": [
            "Недавно ЗАПРЕЩЕННАЯ В РОССИИ ТЕРРОРИСТИЧЕСКАЯ ОРГАНИЗАЦИЯ совместо с ЗАПРЕЩЕННАЯ В РОССИИ ТЕРРОРИСТИЧЕСКАЯ ОРГАНИЗАЦИЯ признала себя виновной в совершении тяжких преступлений, в отношении ЗАПРЕЩЕННАЯ В РОССИИ ТЕРРОРИСТИЧЕСКАЯ ОРГАНИЗАЦИЯ так же будут приняты ответные меры\n"
          ]
        }
      ],
      "source": [
        "# Пример посложнее\n",
        "print(re.sub(r'Аль\\-\\w+|Талиб\\w+',\n",
        "             r'запрещенная в россии террористическая организация'.upper(),\n",
        "             r'Недавно Аль-Каида совместо с Аль-Джихадом признала себя виновной в совершении тяжких преступлений, в отношении Талибов так же будут приняты ответные меры'))"
      ],
      "metadata": {
        "id": "RvKCxcluROKL",
        "outputId": "5332c907-1b8c-41de-bd80-cbc0985e5a56"
      }
    },
    {
      "cell_type": "markdown",
      "source": [
        "`re.compile` компелирует регулярное выражение в отдельный объект"
      ],
      "metadata": {
        "collapsed": false,
        "id": "WZw11Ll5ROKL"
      }
    },
    {
      "cell_type": "code",
      "execution_count": null,
      "outputs": [
        {
          "output_type": "execute_result",
          "data": {
            "text/plain": [
              "['Слова', 'Да', 'больше', 'ещё', 'больше', 'слов', 'Что-то', 'ещё']"
            ]
          },
          "metadata": {},
          "execution_count": 27
        }
      ],
      "source": [
        "# построим всех слов строки\n",
        "string = \"Слова? Да, больше, ещё больше слов! Что-то ещё.\"\n",
        "prog = re.compile(r'[А-Яа-яёЁ\\-]+')\n",
        "prog.findall(string)"
      ],
      "metadata": {
        "id": "j_IdpCMJROKL",
        "outputId": "75a0ffb0-156d-40c6-8834-079fb9762623"
      }
    },
    {
      "cell_type": "code",
      "execution_count": null,
      "outputs": [
        {
          "output_type": "execute_result",
          "data": {
            "text/plain": [
              "['Слова', 'больше', 'ещё', 'больше', 'слов', 'Что-то', 'ещё']"
            ]
          },
          "metadata": {},
          "execution_count": 28
        }
      ],
      "source": [
        "# для выбранной строки постройте список слов, которые длиннее трех символов\n",
        "string = \"Слова? Да, больше, ещё больше слов! Что-то ещё.\"\n",
        "prog = re.compile('[А-Яа-яёЁ\\-]{3,}')\n",
        "prog.findall(string)"
      ],
      "metadata": {
        "id": "5NMfYaGqROKL",
        "outputId": "686b7fe3-568a-4be0-d739-8aa9129834f3"
      }
    },
    {
      "cell_type": "code",
      "execution_count": null,
      "outputs": [
        {
          "output_type": "execute_result",
          "data": {
            "text/plain": [
              "'Слова'"
            ],
            "application/vnd.google.colaboratory.intrinsic+json": {
              "type": "string"
            }
          },
          "metadata": {},
          "execution_count": 29
        }
      ],
      "source": [
        "# найти первое слово в строке\n",
        "string = \"Слова? Да, больше, ещё больше слов! Что-то ещё.\"\n",
        "prog = re.compile('[А-Яа-яёЁ\\-]+')\n",
        "prog.match(string).group(0)"
      ],
      "metadata": {
        "id": "kzU8lgPxROKL",
        "outputId": "f2290654-3099-41cc-a236-166c6c94bc61"
      }
    },
    {
      "cell_type": "markdown",
      "source": [
        "\n",
        "\n",
        "`re.IGNORECASE` позволяет не различать заглавные и маленькие буквы. Работает медленнее, но иногда удобно."
      ],
      "metadata": {
        "collapsed": false,
        "id": "rVfScqODROKL"
      }
    },
    {
      "cell_type": "code",
      "execution_count": null,
      "outputs": [
        {
          "output_type": "stream",
          "name": "stdout",
          "text": [
            "['ОООО', 'ааааа', 'оооо', 'ММММ', 'мМммМММм']\n"
          ]
        }
      ],
      "source": [
        "# последнии пример, игнорирование регистра в регулярных выражениях\n",
        "string = 'ОООО ааааа оооо ММММ мМммМММм'\n",
        "print(re.findall(r'[оам]+', string, flags=re.IGNORECASE))"
      ],
      "metadata": {
        "id": "7WQ7nWnFROKL",
        "outputId": "a26f3df4-e1a4-4df1-adab-80fd8dc52a78"
      }
    },
    {
      "cell_type": "markdown",
      "source": [
        "### Где потренироваться в регулярных выражениях?\n",
        "\n",
        "* [https://pythex.org/](https://pythex.org/)\n",
        "\n",
        "* [https://regex101.com/r/F8dY80/3](https://regex101.com/r/F8dY80/3)"
      ],
      "metadata": {
        "collapsed": false,
        "id": "ezbbMOxvROKL"
      }
    },
    {
      "cell_type": "markdown",
      "source": [
        "### Cамостоятельные задачки\n"
      ],
      "metadata": {
        "collapsed": false,
        "id": "6_4yjPECROKM"
      }
    },
    {
      "cell_type": "markdown",
      "source": [
        "**Задача №1**\n",
        "\n",
        "Владимир устроился на работу в одно очень важное место. И в первом же документе он ничего не понял,\n",
        "там были сплошные ФГУП НИЦ ГИДГЕО, ФГОУ ЧШУ АПК и т.п. Тогда он решил собрать все аббревиатуры, чтобы потом найти их расшифровки на [http://sokr.ru/](http://sokr.ru/). Помогите ему.\n",
        "\n",
        "Будем считать аббревиатурой слова только лишь из заглавных букв (как минимум из двух). Если несколько таких слов разделены пробелами, то они считаются одной аббревиатурой."
      ],
      "metadata": {
        "collapsed": false,
        "id": "ZMrhLf-wROKM"
      }
    },
    {
      "cell_type": "markdown",
      "source": [
        "**Задача №2**\n",
        "\n",
        "Найти дату в строке. В отличие от прошлого примера год может записыватьс двумя способами - 2007 или 07, то есть 4 или 2 символа, вывести месяц."
      ],
      "metadata": {
        "collapsed": false,
        "id": "WzfzZGhKROKM"
      }
    },
    {
      "cell_type": "markdown",
      "source": [
        "**Задача №3**\n",
        "\n",
        "Найти все имена собственные в тексте. Случаи, когда предложение начинается с имени собственного, можно игнорировать.\n",
        "\n",
        "В данном случае, будем считать что имя собственное - слово, начинающеся с большой буквы. Случаи, когда предложение начинается с имени собственного, можно игнорировать."
      ],
      "metadata": {
        "collapsed": false,
        "id": "vKwrHf0HROKM"
      }
    },
    {
      "cell_type": "code",
      "execution_count": null,
      "outputs": [
        {
          "name": "stdout",
          "output_type": "stream",
          "text": [
            "YES — В443РХ777\n",
            "NO — АА545Р750\n",
            "YES — Е454АЕ150\n",
            "YES — М709РО96\n",
            "NO — В45РАВ77\n",
            "YES — У822НО02\n"
          ]
        }
      ],
      "source": [
        "# В России для регистрации машин используют принятый стандарт регистрационных знаков. Для частных автомобилей он состоит из серии, самого номера и кода региона регистрации. Запись автомобильного номера выглядит так: С065МК777. На вход программы подается список автомобильных номеров. Надо проверить соответствие их записи с государственным стандартом.\n",
        "#\n",
        "# В443РХ777\n",
        "# АА545Р750\n",
        "# Е454АЕ150\n",
        "# М709РО96\n",
        "# В45РАВ77\n",
        "# У822НО02\n",
        "\n"
      ],
      "metadata": {
        "id": "1SvmykELROKM",
        "outputId": "58ed4924-c841-4624-9e8c-dc03a492b8df"
      }
    }
  ],
  "metadata": {
    "interpreter": {
      "hash": "f63d7511e57c29b72547936613e0190b5e8bcb3581bae6f081f801693d929a4e"
    },
    "kernelspec": {
      "display_name": "Python 3.9.1 64-bit",
      "language": "python",
      "name": "python3"
    },
    "language_info": {
      "codemirror_mode": {
        "name": "ipython",
        "version": 3
      },
      "file_extension": ".py",
      "mimetype": "text/x-python",
      "name": "python",
      "nbconvert_exporter": "python",
      "pygments_lexer": "ipython3",
      "version": "3.9.1"
    },
    "orig_nbformat": 4,
    "colab": {
      "provenance": [],
      "include_colab_link": true
    }
  },
  "nbformat": 4,
  "nbformat_minor": 0
}